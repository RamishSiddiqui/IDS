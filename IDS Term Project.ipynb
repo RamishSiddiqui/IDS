{
 "cells": [
  {
   "cell_type": "markdown",
   "metadata": {},
   "source": [
    "<h2>Fake News Detection</h2>"
   ]
  },
  {
   "cell_type": "markdown",
   "metadata": {},
   "source": [
    "<h3>Importing Libararies and dataset</h3>"
   ]
  },
  {
   "cell_type": "code",
   "execution_count": 1,
   "metadata": {},
   "outputs": [],
   "source": [
    "import numpy as np\n",
    "import pandas as pd\n",
    "import matplotlib.pyplot as plt\n",
    "from sklearn.model_selection import train_test_split\n",
    "from sklearn.feature_extraction.text import TfidfVectorizer\n",
    "from sklearn.pipeline import Pipeline\n",
    "from sklearn.svm import LinearSVC\n",
    "from collections import Counter\n",
    "from sklearn.cluster import KMeans\n",
    "from sklearn.metrics import accuracy_score,classification_report, confusion_matrix"
   ]
  },
  {
   "cell_type": "code",
   "execution_count": 2,
   "metadata": {},
   "outputs": [],
   "source": [
    "#Read the data\n",
    "df=pd.read_csv('fake_or_real_news.csv')\n",
    "labels=df.label"
   ]
  },
  {
   "cell_type": "markdown",
   "metadata": {},
   "source": [
    "<h3>Splitting data 30% for testing and 70% for training</h3>\n",
    "<p>as per requirement</p>"
   ]
  },
  {
   "cell_type": "code",
   "execution_count": 3,
   "metadata": {},
   "outputs": [],
   "source": [
    "X_train, X_test, y_train, y_test = train_test_split(df['text'], labels, test_size=0.3, shuffle=False)"
   ]
  },
  {
   "cell_type": "markdown",
   "metadata": {},
   "source": [
    "<h3>Using Support Vector Machine Algorithm</h3>"
   ]
  },
  {
   "cell_type": "code",
   "execution_count": 22,
   "metadata": {},
   "outputs": [
    {
     "name": "stdout",
     "output_type": "stream",
     "text": [
      "Naive model has 93.0% accuracy\n",
      "\n",
      "\n",
      "              precision    recall  f1-score   support\n",
      "\n",
      "        FAKE       0.93      0.94      0.93       967\n",
      "        REAL       0.94      0.92      0.93       934\n",
      "\n",
      "    accuracy                           0.93      1901\n",
      "   macro avg       0.93      0.93      0.93      1901\n",
      "weighted avg       0.93      0.93      0.93      1901\n",
      "\n"
     ]
    }
   ],
   "source": [
    "Support_Vector_Machine = Pipeline([ ('vector',TfidfVectorizer(stop_words='english')), ('classifier',LinearSVC()) ])\n",
    "Support_Vector_Machine.fit(X_train,y_train)\n",
    "prediction = Support_Vector_Machine.predict(X_test)\n",
    "Accuracy = accuracy_score(y_test,prediction)\n",
    "tn, fp, fn, tp = confusion_matrix(y_test, prediction).ravel()\n",
    "print(f'Naive model has {Accuracy.round(2)*100}% accuracy')\n",
    "print('\\n')\n",
    "print(classification_report(y_test,prediction))"
   ]
  },
  {
   "cell_type": "markdown",
   "metadata": {},
   "source": [
    "<h4>Question 1</h4>"
   ]
  },
  {
   "cell_type": "markdown",
   "metadata": {},
   "source": [
    "<p>What are the top tokens that appear in the fake news/real news ? i.e most repeated words?</p>"
   ]
  },
  {
   "cell_type": "markdown",
   "metadata": {},
   "source": [
    "<h4>Answer</h4>"
   ]
  },
  {
   "cell_type": "code",
   "execution_count": 23,
   "metadata": {},
   "outputs": [
    {
     "name": "stdout",
     "output_type": "stream",
     "text": [
      "[('The', 822), ('Trump', 475), ('2016', 435), ('Donald', 309), ('Hillary', 304), ('Clinton', 287), ('CNN', 277), ('Obama', 268), ('A', 252), ('By', 199)]\n"
     ]
    }
   ],
   "source": [
    "from nltk.corpus import stopwords\n",
    "from nltk.tokenize import word_tokenize\n",
    "import nltk\n",
    "\n",
    "data= df['text'].to_string()\n",
    "stop_words = set(stopwords.words('english'))\n",
    "Mytokenizer = nltk.RegexpTokenizer(r\"\\w+\")\n",
    "word_tokens= Mytokenizer.tokenize(data)\n",
    "\n",
    "\n",
    "filtered_sentence = [w for w in word_tokens if not w.lower() in stop_words]\n",
    "filtered_sentence = []\n",
    " \n",
    "for w in word_tokens:\n",
    "    if w not in stop_words:\n",
    "        filtered_sentence.append(w)\n",
    "\n",
    "frequency = Counter(filtered_sentence)\n",
    "print(frequency.most_common(10))"
   ]
  },
  {
   "cell_type": "markdown",
   "metadata": {},
   "source": [
    "<h4>Question 2</h4>"
   ]
  },
  {
   "cell_type": "markdown",
   "metadata": {},
   "source": [
    "<p>What persuasive strategies make fake news seem to be true?</p>"
   ]
  },
  {
   "cell_type": "markdown",
   "metadata": {},
   "source": [
    "<p>According to my observation using the same dataset, KNN is the only one strategy or an algorithm which make the fake news seems to be true</p>\n",
    "<p>As, the accuracy of the different algorithms are: </p>\n",
    "<p>1. KNN ==>   56.999%</p>\n",
    "<p>2. Desicion Trees ==> 82.0%</p>\n",
    "<p>3. Support Vector Machine ==> 93.0%</p>\n",
    "<p>4. Naive Bayes ==> 82.0%</p>"
   ]
  },
  {
   "cell_type": "markdown",
   "metadata": {},
   "source": [
    "<h4>Question 3</h4>"
   ]
  },
  {
   "cell_type": "markdown",
   "metadata": {},
   "source": [
    "<p>What are the chances of labeling fake news as the real news (False positive)? </p>"
   ]
  },
  {
   "cell_type": "markdown",
   "metadata": {},
   "source": [
    "<h4>Answer</h4>"
   ]
  },
  {
   "cell_type": "code",
   "execution_count": 27,
   "metadata": {},
   "outputs": [
    {
     "name": "stdout",
     "output_type": "stream",
     "text": [
      "According to our observation, there is  56 False positive\n",
      "\n"
     ]
    }
   ],
   "source": [
    "print(\"According to our observation, there is \", fp,\"False positive\\n\")"
   ]
  },
  {
   "cell_type": "markdown",
   "metadata": {},
   "source": [
    "<h4>Question 4</h4>"
   ]
  },
  {
   "cell_type": "markdown",
   "metadata": {},
   "source": [
    "<p>What are the chances of labeling True news as the False news? (True negative)</p>"
   ]
  },
  {
   "cell_type": "code",
   "execution_count": 28,
   "metadata": {},
   "outputs": [
    {
     "name": "stdout",
     "output_type": "stream",
     "text": [
      "According to our observation, there is  911 True negatives\n",
      "\n"
     ]
    }
   ],
   "source": [
    "print(\"According to our observation, there is \", tn,\"True negatives\\n\")"
   ]
  },
  {
   "cell_type": "markdown",
   "metadata": {},
   "source": [
    "<h4>Question 5</h4>"
   ]
  },
  {
   "cell_type": "markdown",
   "metadata": {},
   "source": [
    "<p>Based on the data, can we identify the category of news such as whether the news lies in the political category or not?</p>"
   ]
  },
  {
   "cell_type": "markdown",
   "metadata": {},
   "source": [
    "<p>Yes, we can identify the categories but for this we need to use our algorithm in different way. We need to add a new column known as the category in which we define which type of the news it is then we make this new column our target.</p>"
   ]
  },
  {
   "cell_type": "code",
   "execution_count": null,
   "metadata": {},
   "outputs": [],
   "source": []
  }
 ],
 "metadata": {
  "kernelspec": {
   "display_name": "Python 3",
   "language": "python",
   "name": "python3"
  },
  "language_info": {
   "codemirror_mode": {
    "name": "ipython",
    "version": 3
   },
   "file_extension": ".py",
   "mimetype": "text/x-python",
   "name": "python",
   "nbconvert_exporter": "python",
   "pygments_lexer": "ipython3",
   "version": "3.7.10"
  }
 },
 "nbformat": 4,
 "nbformat_minor": 4
}
